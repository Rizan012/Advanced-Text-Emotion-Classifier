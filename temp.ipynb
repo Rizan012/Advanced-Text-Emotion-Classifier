{
 "cells": [
  {
   "cell_type": "code",
   "execution_count": 67,
   "id": "b7eec625-96aa-41a4-a651-4133ec705df3",
   "metadata": {},
   "outputs": [],
   "source": [
    "from datasets import load_dataset,concatenate_datasets\n",
    "import re"
   ]
  },
  {
   "cell_type": "code",
   "execution_count": 68,
   "id": "43169f69-85bd-4ff1-8551-02949e3dd637",
   "metadata": {},
   "outputs": [],
   "source": [
    "ds = load_dataset(\"google-research-datasets/go_emotions\", \"simplified\")"
   ]
  },
  {
   "cell_type": "code",
   "execution_count": 69,
   "id": "9decec2d-16ae-4e1c-8293-4b9a24d4ef7e",
   "metadata": {},
   "outputs": [
    {
     "data": {
      "text/plain": [
       "DatasetDict({\n",
       "    train: Dataset({\n",
       "        features: ['text', 'labels', 'id'],\n",
       "        num_rows: 43410\n",
       "    })\n",
       "    validation: Dataset({\n",
       "        features: ['text', 'labels', 'id'],\n",
       "        num_rows: 5426\n",
       "    })\n",
       "    test: Dataset({\n",
       "        features: ['text', 'labels', 'id'],\n",
       "        num_rows: 5427\n",
       "    })\n",
       "})"
      ]
     },
     "execution_count": 69,
     "metadata": {},
     "output_type": "execute_result"
    }
   ],
   "source": [
    "ds"
   ]
  },
  {
   "cell_type": "code",
   "execution_count": 70,
   "id": "f9ce4896-40e6-4ab8-a4f6-33928c91154c",
   "metadata": {},
   "outputs": [
    {
     "data": {
      "text/plain": [
       "{'text': \"My favourite food is anything I didn't have to cook myself.\",\n",
       " 'labels': [27],\n",
       " 'id': 'eebbqej'}"
      ]
     },
     "execution_count": 70,
     "metadata": {},
     "output_type": "execute_result"
    }
   ],
   "source": [
    "ds[\"train\"][0]"
   ]
  },
  {
   "cell_type": "code",
   "execution_count": 71,
   "id": "55ae6af1-eea5-4c6f-b715-7e9e6a2c7e7c",
   "metadata": {},
   "outputs": [],
   "source": [
    "ds_com = concatenate_datasets([ds['train'], ds['validation'], ds['test']])"
   ]
  },
  {
   "cell_type": "code",
   "execution_count": 72,
   "id": "79ef75b6-1073-40d6-9c77-0e96aebcb44f",
   "metadata": {},
   "outputs": [
    {
     "data": {
      "text/plain": [
       "Dataset({\n",
       "    features: ['text', 'labels', 'id'],\n",
       "    num_rows: 54263\n",
       "})"
      ]
     },
     "execution_count": 72,
     "metadata": {},
     "output_type": "execute_result"
    }
   ],
   "source": [
    "ds_com"
   ]
  },
  {
   "cell_type": "code",
   "execution_count": 73,
   "id": "035fc971-7aa7-439b-abaa-54b3aebb8f28",
   "metadata": {},
   "outputs": [
    {
     "data": {
      "text/plain": [
       "{'text': 'Yeah they’d probably want more than [NAME] and [NAME]. [NAME], maybe [NAME] can finesse them too lol',\n",
       " 'labels': [27],\n",
       " 'id': 'eeafigq'}"
      ]
     },
     "execution_count": 73,
     "metadata": {},
     "output_type": "execute_result"
    }
   ],
   "source": [
    "ds_com[53253]"
   ]
  },
  {
   "cell_type": "code",
   "execution_count": 74,
   "id": "dbb58029-0d8e-4c1d-bea5-acba346a72cb",
   "metadata": {},
   "outputs": [
    {
     "data": {
      "text/plain": [
       "'Yeah they’d probably want more than [NAME] and [NAME]. [NAME], maybe [NAME] can finesse them too lol'"
      ]
     },
     "execution_count": 74,
     "metadata": {},
     "output_type": "execute_result"
    }
   ],
   "source": [
    "ds_com[53253][\"text\"]"
   ]
  },
  {
   "cell_type": "code",
   "execution_count": 75,
   "id": "40ff5049-1f7e-470c-8d55-fbc7421cb64d",
   "metadata": {},
   "outputs": [],
   "source": [
    "def cleaning(text):\n",
    "    text = text.lower()\n",
    "    text = text.replace(\"’\", \"'\").replace(\"‘\", \"'\")\n",
    "    text = re.sub(r\"[^\\w\\s!?.,'\\-\\/\\[\\]]\", \"\", text)\n",
    "    text = re.sub(r\"\\s+\", \" \", text) \n",
    "    text = re.sub(r\"(.)\\1{2,}\", r\"\\1\\1\", text)\n",
    "    return text.strip()"
   ]
  },
  {
   "cell_type": "code",
   "execution_count": 76,
   "id": "d59da5b6-d644-4764-addb-236c5463f29f",
   "metadata": {},
   "outputs": [
    {
     "name": "stderr",
     "output_type": "stream",
     "text": [
      "Map: 100%|██████████████████████████████████████████████████████████████| 54263/54263 [00:06<00:00, 9024.67 examples/s]\n"
     ]
    }
   ],
   "source": [
    "ds_com = ds_com.map(lambda x: {\"text\": cleaning(x[\"text\"])})"
   ]
  },
  {
   "cell_type": "code",
   "execution_count": 77,
   "id": "5832697a-826c-4207-a036-9028d077d142",
   "metadata": {},
   "outputs": [
    {
     "data": {
      "text/plain": [
       "{'text': \"yeah they'd probably want more than [name] and [name]. [name], maybe [name] can finesse them too lol\",\n",
       " 'labels': [27],\n",
       " 'id': 'eeafigq'}"
      ]
     },
     "execution_count": 77,
     "metadata": {},
     "output_type": "execute_result"
    }
   ],
   "source": [
    "ds_com[53253]"
   ]
  },
  {
   "cell_type": "code",
   "execution_count": null,
   "id": "42cf5606-6c3b-4666-a2c2-bc9f7492b023",
   "metadata": {},
   "outputs": [],
   "source": []
  }
 ],
 "metadata": {
  "kernelspec": {
   "display_name": "Python (tfenv)",
   "language": "python",
   "name": "tfenv"
  },
  "language_info": {
   "codemirror_mode": {
    "name": "ipython",
    "version": 3
   },
   "file_extension": ".py",
   "mimetype": "text/x-python",
   "name": "python",
   "nbconvert_exporter": "python",
   "pygments_lexer": "ipython3",
   "version": "3.10.0"
  }
 },
 "nbformat": 4,
 "nbformat_minor": 5
}
