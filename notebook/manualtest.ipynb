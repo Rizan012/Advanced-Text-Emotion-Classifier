{
 "cells": [
  {
   "cell_type": "code",
   "execution_count": 60,
   "id": "fc8c1869-34cd-4f90-b4a4-4d3fb10656c1",
   "metadata": {},
   "outputs": [],
   "source": [
    "import re\n",
    "import string\n",
    "import numpy as np\n",
    "import tensorflow as tf\n",
    "import pandas as pd\n",
    "import pickle\n",
    "from tensorflow.keras.preprocessing.sequence import pad_sequences\n",
    "from tensorflow.keras.models import load_model\n",
    "from tensorflow.keras.losses import binary_crossentropy\n",
    "from transformers import DistilBertTokenizerFast\n",
    "from transformers import TFDistilBertModel\n",
    "from nltk.corpus import stopwords\n",
    "from nltk.stem import WordNetLemmatizer"
   ]
  },
  {
   "cell_type": "code",
   "execution_count": 61,
   "id": "49a18fb6-0f90-4e49-aeb0-07ffd3bec7b2",
   "metadata": {},
   "outputs": [
    {
     "name": "stderr",
     "output_type": "stream",
     "text": [
      "[nltk_data] Downloading package stopwords to\n",
      "[nltk_data]     C:\\Users\\ree\\AppData\\Roaming\\nltk_data...\n",
      "[nltk_data]   Package stopwords is already up-to-date!\n",
      "[nltk_data] Downloading package wordnet to\n",
      "[nltk_data]     C:\\Users\\ree\\AppData\\Roaming\\nltk_data...\n",
      "[nltk_data]   Package wordnet is already up-to-date!\n"
     ]
    },
    {
     "data": {
      "text/plain": [
       "True"
      ]
     },
     "execution_count": 61,
     "metadata": {},
     "output_type": "execute_result"
    }
   ],
   "source": [
    "import nltk\n",
    "nltk.download('stopwords')\n",
    "nltk.download('wordnet')"
   ]
  },
  {
   "cell_type": "code",
   "execution_count": 62,
   "id": "a6d75eb6-ac77-4625-b867-2026e5f7c26f",
   "metadata": {},
   "outputs": [],
   "source": [
    "MAX_LEN = 128 "
   ]
  },
  {
   "cell_type": "code",
   "execution_count": 63,
   "id": "de2e3af6-e2b4-4de6-9441-1bb96964c0e9",
   "metadata": {},
   "outputs": [],
   "source": [
    "LSTM_MODEL_PATH = \"../models/lstm.keras\"\n",
    "LSTM_TOKENIZER_PATH = \"../models/token/lstm_tokenizer.pkl\"\n",
    "BERT_MODEL_PATH = \"../models/bert.keras\" \n",
    "BERT_TOKENIZER_PATH = \"../models/token/bert_tokenizer\" "
   ]
  },
  {
   "cell_type": "code",
   "execution_count": 64,
   "id": "e93fccd9-dcc5-472f-8e41-fb4ba661e4c5",
   "metadata": {},
   "outputs": [],
   "source": [
    "emo_list = [\n",
    "    \"admiration\", \"amusement\", \"anger\", \"annoyance\", \"approval\", \"caring\",\n",
    "    \"confusion\", \"curiosity\", \"desire\", \"disappointment\", \"disapproval\",\n",
    "    \"disgust\", \"embarrassment\", \"excitement\", \"fear\", \"gratitude\", \"grief\",\n",
    "    \"joy\", \"love\", \"nervousness\", \"optimism\", \"pride\", \"realization\", \"relief\",\n",
    "    \"remorse\", \"sadness\", \"surprise\", \"neutral\"\n",
    "]"
   ]
  },
  {
   "cell_type": "code",
   "execution_count": 65,
   "id": "e798aad5-a065-4c97-a2d1-d477e583531e",
   "metadata": {},
   "outputs": [],
   "source": [
    "stop_words = set(stopwords.words(\"english\"))\n",
    "lemmatizer = WordNetLemmatizer()"
   ]
  },
  {
   "cell_type": "code",
   "execution_count": 66,
   "id": "f07f006e-bbd3-42d7-b46e-abef1cf51d03",
   "metadata": {},
   "outputs": [],
   "source": [
    "negations = {\"not\", \"no\", \"never\", \"n't\"}"
   ]
  },
  {
   "cell_type": "code",
   "execution_count": 67,
   "id": "6c205cab-2c15-41ed-9b50-d006c17e1125",
   "metadata": {},
   "outputs": [],
   "source": [
    "stop_words = stop_words.difference(negations)"
   ]
  },
  {
   "cell_type": "code",
   "execution_count": 68,
   "id": "1a596986-fd12-44d3-9da5-dc4b84cc7770",
   "metadata": {},
   "outputs": [],
   "source": [
    "def clean(text):\n",
    "    text = text.lower()\n",
    "    text = re.sub(r\"[\"\n",
    "                  \"\\U0001F600-\\U0001F64F\"\n",
    "                  \"\\U0001F300-\\U0001F5FF\"\n",
    "                  \"\\U0001F680-\\U0001F6FF\"\n",
    "                  \"\\U0001F1E0-\\U0001F1FF\"\n",
    "                  \"\\U00002700-\\U000027BF\"\n",
    "                  \"\\U000024C2-\\U0001F251\"\n",
    "                  \"]+\", '', text)\n",
    "    text = re.sub(r\"http\\S+|www\\S+\", \"\", text)\n",
    "    text = re.sub(r\"<.*?>\", \"\", text)\n",
    "    text = text.translate(str.maketrans('', '', string.punctuation))\n",
    "    words = text.split()\n",
    "    words = [lemmatizer.lemmatize(word) for word in words if word not in stop_words]\n",
    "    return \" \".join(words)"
   ]
  },
  {
   "cell_type": "code",
   "execution_count": 69,
   "id": "ed4d0989-1a48-4595-8c15-35755b886e96",
   "metadata": {},
   "outputs": [],
   "source": [
    "def predict_bert(text, model, tokenizer, thresholds):\n",
    "    inputs = tokenizer([text], padding='max_length', truncation=True, max_length=MAX_LEN, return_tensors=\"tf\")\n",
    "    probs = model.predict({\"input_ids\": inputs[\"input_ids\"], \"attention_mask\": inputs[\"attention_mask\"]}, verbose=0)[0]\n",
    "    pred = (probs > thresholds).astype(int)\n",
    "    results = [(emo, round(float(prob), 2)) for emo, prob, p in zip(emo_list, probs, pred) if p == 1]\n",
    "    return results if results else [(\"other\", round(float(max(probs)), 2))]"
   ]
  },
  {
   "cell_type": "code",
   "execution_count": 70,
   "id": "d1a8cd8a-a009-4a5b-938b-38678d3a2e66",
   "metadata": {},
   "outputs": [],
   "source": [
    "def predict_lstm(text, model, tokenizer, thresholds):\n",
    "    seq = tokenizer.texts_to_sequences([text])\n",
    "    padded = pad_sequences(seq, maxlen=MAX_LEN, padding='post', truncating='post')\n",
    "    probs = model.predict(padded, verbose=0)[0]\n",
    "    pred = (probs > thresholds).astype(int)\n",
    "    results = [(emo, round(float(prob), 2)) for emo, prob, p in zip(emo_list, probs, pred) if p == 1]\n",
    "    return results if results else [(\"other\", round(float(max(probs)), 2))]"
   ]
  },
  {
   "cell_type": "code",
   "execution_count": 71,
   "id": "493014bf-a450-4c47-9e27-2506fd0e4b86",
   "metadata": {},
   "outputs": [],
   "source": [
    "bert_model = tf.keras.models.load_model(BERT_MODEL_PATH, custom_objects={\"TFDistilBertModel\": TFDistilBertModel})\n",
    "bert_tokenizer = DistilBertTokenizerFast.from_pretrained(BERT_TOKENIZER_PATH)"
   ]
  },
  {
   "cell_type": "code",
   "execution_count": 72,
   "id": "9bffd317-4869-49e8-a18a-e7ee949d7ee3",
   "metadata": {},
   "outputs": [],
   "source": [
    "def loss_fn(y_true, y_pred):\n",
    "    return binary_crossentropy(y_true, y_pred)"
   ]
  },
  {
   "cell_type": "code",
   "execution_count": 73,
   "id": "13d2e237-4b97-4e4f-950b-ab93f1a8d3a5",
   "metadata": {},
   "outputs": [],
   "source": [
    "lstm_model = load_model(LSTM_MODEL_PATH, custom_objects={'loss_fn': loss_fn})"
   ]
  },
  {
   "cell_type": "code",
   "execution_count": 74,
   "id": "235e7f93-4314-4352-bffd-b9edf5c3b889",
   "metadata": {},
   "outputs": [],
   "source": [
    "with open(LSTM_TOKENIZER_PATH, 'rb') as f:\n",
    "    lstm_tokenizer = pickle.load(f)"
   ]
  },
  {
   "cell_type": "code",
   "execution_count": 75,
   "id": "373bc24c-2e77-4d5f-bab8-223db3988d7f",
   "metadata": {},
   "outputs": [],
   "source": [
    "thresholds_bert = np.load(\"../models/thresholds/thresholds_bert.npy\")\n",
    "thresholds_lstm = np.load(\"../models/thresholds/thresholds_lstm.npy\")"
   ]
  },
  {
   "cell_type": "code",
   "execution_count": 88,
   "id": "cb1a604a-6553-489e-899f-a91b74e30c35",
   "metadata": {},
   "outputs": [
    {
     "name": "stdin",
     "output_type": "stream",
     "text": [
      "Enter your text:  he doesnt like it but im not so sure\n"
     ]
    },
    {
     "name": "stdout",
     "output_type": "stream",
     "text": [
      "\n",
      "Cleaned text: doesnt like im not sure\n",
      "\n",
      "DistilBERT Predictions:\n",
      "  confusion       : 0.63\n",
      "  disapproval     : 0.24\n",
      "\n",
      "LSTM Predictions:\n",
      "  disapproval     : 0.43\n",
      "  neutral         : 0.47\n"
     ]
    }
   ],
   "source": [
    "if __name__ == \"__main__\":\n",
    "    text = input(\"Enter your text: \")\n",
    "    cleaned = clean(text)\n",
    "    print(\"\\nCleaned text:\", cleaned)\n",
    "\n",
    "    print(\"\\nDistilBERT Predictions:\")\n",
    "    bert_results = predict_bert(cleaned, bert_model, bert_tokenizer, thresholds_bert)\n",
    "    for emo, prob in bert_results:\n",
    "        print(f\"  {emo:<15} : {prob}\")\n",
    "\n",
    "    print(\"\\nLSTM Predictions:\")\n",
    "    lstm_results = predict_lstm(cleaned, lstm_model, lstm_tokenizer, thresholds_lstm)\n",
    "    for emo, prob in lstm_results:\n",
    "        print(f\"  {emo:<15} : {prob}\")"
   ]
  },
  {
   "cell_type": "code",
   "execution_count": null,
   "id": "97caa696-d651-46c9-bca8-5585e061d6d6",
   "metadata": {},
   "outputs": [],
   "source": []
  }
 ],
 "metadata": {
  "kernelspec": {
   "display_name": "Python (tfenv)",
   "language": "python",
   "name": "tfenv"
  },
  "language_info": {
   "codemirror_mode": {
    "name": "ipython",
    "version": 3
   },
   "file_extension": ".py",
   "mimetype": "text/x-python",
   "name": "python",
   "nbconvert_exporter": "python",
   "pygments_lexer": "ipython3",
   "version": "3.10.0"
  }
 },
 "nbformat": 4,
 "nbformat_minor": 5
}
